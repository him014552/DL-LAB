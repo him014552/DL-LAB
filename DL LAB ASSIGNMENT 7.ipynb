{
 "cells": [
  {
   "cell_type": "code",
   "execution_count": 4,
   "id": "19ffde96",
   "metadata": {},
   "outputs": [
    {
     "name": "stdout",
     "output_type": "stream",
     "text": [
      "Epoch 1/10\n",
      "1563/1563 [==============================] - 25s 15ms/step - loss: 2.0620 - accuracy: 0.2189 - val_loss: 1.8846 - val_accuracy: 0.3143\n",
      "Epoch 2/10\n",
      "1563/1563 [==============================] - 24s 15ms/step - loss: 1.8936 - accuracy: 0.3040 - val_loss: 1.8381 - val_accuracy: 0.3137\n",
      "Epoch 3/10\n",
      "1563/1563 [==============================] - 23s 15ms/step - loss: 1.8477 - accuracy: 0.3260 - val_loss: 1.7464 - val_accuracy: 0.3720\n",
      "Epoch 4/10\n",
      "1563/1563 [==============================] - 24s 15ms/step - loss: 1.8159 - accuracy: 0.3380 - val_loss: 1.7349 - val_accuracy: 0.3750\n",
      "Epoch 5/10\n",
      "1563/1563 [==============================] - 24s 16ms/step - loss: 1.7957 - accuracy: 0.3450 - val_loss: 1.7202 - val_accuracy: 0.3874\n",
      "Epoch 6/10\n",
      "1563/1563 [==============================] - 23s 15ms/step - loss: 1.7787 - accuracy: 0.3540 - val_loss: 1.6947 - val_accuracy: 0.4075\n",
      "Epoch 7/10\n",
      "1563/1563 [==============================] - 23s 15ms/step - loss: 1.7584 - accuracy: 0.3617 - val_loss: 1.6789 - val_accuracy: 0.4040\n",
      "Epoch 8/10\n",
      "1563/1563 [==============================] - 23s 15ms/step - loss: 1.7437 - accuracy: 0.3690 - val_loss: 1.6389 - val_accuracy: 0.4161\n",
      "Epoch 9/10\n",
      "1563/1563 [==============================] - 24s 15ms/step - loss: 1.7319 - accuracy: 0.3746 - val_loss: 1.6682 - val_accuracy: 0.4023\n",
      "Epoch 10/10\n",
      "1563/1563 [==============================] - 25s 16ms/step - loss: 1.7239 - accuracy: 0.3773 - val_loss: 1.6415 - val_accuracy: 0.4229\n",
      "Epoch 1/5\n",
      "1563/1563 [==============================] - 42s 23ms/step - loss: 2.0328 - accuracy: 0.2396 - val_loss: 1.8622 - val_accuracy: 0.3219\n",
      "Epoch 2/5\n",
      "1563/1563 [==============================] - 29s 19ms/step - loss: 1.8786 - accuracy: 0.3173 - val_loss: 1.7862 - val_accuracy: 0.3594\n",
      "Epoch 3/5\n",
      "1563/1563 [==============================] - 29s 19ms/step - loss: 1.8275 - accuracy: 0.3343 - val_loss: 1.7174 - val_accuracy: 0.3784\n",
      "Epoch 4/5\n",
      "1563/1563 [==============================] - 29s 19ms/step - loss: 1.7879 - accuracy: 0.3532 - val_loss: 1.6676 - val_accuracy: 0.3976\n",
      "Epoch 5/5\n",
      "1563/1563 [==============================] - 30s 19ms/step - loss: 1.7574 - accuracy: 0.3640 - val_loss: 1.6311 - val_accuracy: 0.4130\n"
     ]
    },
    {
     "name": "stderr",
     "output_type": "stream",
     "text": [
      "WARNING:absl:Found untraced functions such as flatten_3_layer_call_fn, flatten_3_layer_call_and_return_conditional_losses, dense_15_layer_call_fn, dense_15_layer_call_and_return_conditional_losses, dropout_9_layer_call_fn while saving (showing 5 of 18). These functions will not be directly callable after loading.\n"
     ]
    },
    {
     "name": "stdout",
     "output_type": "stream",
     "text": [
      "INFO:tensorflow:Assets written to: C:\\Users\\HP\\AppData\\Local\\Temp\\tmp0995gjog\\assets\n"
     ]
    },
    {
     "name": "stderr",
     "output_type": "stream",
     "text": [
      "INFO:tensorflow:Assets written to: C:\\Users\\HP\\AppData\\Local\\Temp\\tmp0995gjog\\assets\n"
     ]
    },
    {
     "name": "stdout",
     "output_type": "stream",
     "text": [
      "Quantized Pruned Model Size: 13650.15 KB\n"
     ]
    }
   ],
   "source": [
    "import tensorflow as tf\n",
    "import numpy as np\n",
    "from tensorflow import keras\n",
    "from tensorflow.keras import layers\n",
    "import tensorflow_model_optimization as tfmot\n",
    "\n",
    "# Load CIFAR-10 dataset\n",
    "(x_train, y_train), (x_test, y_test) = keras.datasets.cifar10.load_data()\n",
    "x_train, x_test = x_train / 255.0, x_test / 255.0  # Normalize\n",
    "\n",
    "# Define a deep neural network with 4 hidden layers and 3 dropout layers\n",
    "def create_model():\n",
    "    model = keras.Sequential([\n",
    "        layers.Flatten(input_shape=(32, 32, 3)),\n",
    "        layers.Dense(512, activation='relu'),\n",
    "        layers.Dropout(0.2),\n",
    "        layers.Dense(256, activation='relu'),\n",
    "        layers.Dropout(0.2),\n",
    "        layers.Dense(128, activation='relu'),\n",
    "        layers.Dense(64, activation='relu'),\n",
    "        layers.Dropout(0.2),\n",
    "        layers.Dense(10, activation='softmax')\n",
    "    ])\n",
    "    return model\n",
    "\n",
    "# Compile and train the base model\n",
    "model = create_model()\n",
    "model.compile(optimizer='adam', loss='sparse_categorical_crossentropy', metrics=['accuracy'])\n",
    "model.fit(x_train, y_train, epochs=10, validation_data=(x_test, y_test))\n",
    "\n",
    "# Prune the model\n",
    "# Define pruning parameters\n",
    "pruning_params = {\n",
    "    'pruning_schedule': tfmot.sparsity.keras.PolynomialDecay(\n",
    "        initial_sparsity=0.2, final_sparsity=0.8, begin_step=0, end_step=1000\n",
    "    )\n",
    "}\n",
    "\n",
    "# Apply pruning\n",
    "pruned_model = tfmot.sparsity.keras.prune_low_magnitude(create_model(), **pruning_params)\n",
    "\n",
    "# Compile the pruned model\n",
    "pruned_model.compile(optimizer='adam',\n",
    "                     loss='sparse_categorical_crossentropy',\n",
    "                     metrics=['accuracy'])\n",
    "\n",
    "# **Add the UpdatePruningStep callback**\n",
    "pruning_callbacks = [\n",
    "    tfmot.sparsity.keras.UpdatePruningStep()\n",
    "]\n",
    "\n",
    "# Train the model\n",
    "pruned_model.fit(x_train, y_train, epochs=5, validation_data=(x_test, y_test),\n",
    "                 callbacks=pruning_callbacks)\n",
    "\n",
    "# Convert pruned model to a TensorFlow Lite model for quantization\n",
    "converter = tf.lite.TFLiteConverter.from_keras_model(pruned_model)\n",
    "converter.optimizations = [tf.lite.Optimize.DEFAULT]\n",
    "quantized_tflite_model = converter.convert()\n",
    "\n",
    "# Save the model sizes\n",
    "with open(\"pruned_quantized_model.tflite\", \"wb\") as f:\n",
    "    f.write(quantized_tflite_model)\n",
    "\n",
    "import os\n",
    "original_model_size = os.path.getsize(\"pruned_quantized_model.tflite\") / 1024  # KB\n",
    "print(f\"Quantized Pruned Model Size: {original_model_size:.2f} KB\")\n"
   ]
  },
  {
   "cell_type": "code",
   "execution_count": null,
   "id": "ae42895d",
   "metadata": {},
   "outputs": [],
   "source": []
  }
 ],
 "metadata": {
  "kernelspec": {
   "display_name": "Python 3 (ipykernel)",
   "language": "python",
   "name": "python3"
  },
  "language_info": {
   "codemirror_mode": {
    "name": "ipython",
    "version": 3
   },
   "file_extension": ".py",
   "mimetype": "text/x-python",
   "name": "python",
   "nbconvert_exporter": "python",
   "pygments_lexer": "ipython3",
   "version": "3.12.4"
  }
 },
 "nbformat": 4,
 "nbformat_minor": 5
}
